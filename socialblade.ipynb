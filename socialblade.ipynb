{
 "cells": [
  {
   "cell_type": "code",
   "execution_count": null,
   "id": "original-climate",
   "metadata": {},
   "outputs": [],
   "source": [
    "mode = 0 # 0 for subscribers, 1 for vidviews\n",
    "graph_options = ['subscribers', 'vidviews']\n",
    "url = 'https://socialblade.com/youtube/user/getmovies/monthly'\n",
    "graph = \"graph-youtube-monthly-{}-container\".format(graph_options[mode])"
   ]
  },
  {
   "cell_type": "code",
   "execution_count": null,
   "id": "sonic-woman",
   "metadata": {},
   "outputs": [],
   "source": [
    "import requests as req\n",
    "from bs4 import BeautifulSoup as bs\n",
    "from urllib.request import Request, urlopen\n",
    "\n",
    "def open_social_blade_url(url):\n",
    "    rq = Request(url , headers={'User-Agent': 'Mozilla/5.0'})\n",
    "    urlop = urlopen(rq)\n",
    "    if (urlop.status == 200):\n",
    "        raw = urlop.read()\n",
    "        bspage = bs(raw, 'html.parser')\n",
    "        print(url)\n",
    "    else:\n",
    "        print(urlop.status)    \n",
    "    return bspage"
   ]
  },
  {
   "cell_type": "code",
   "execution_count": null,
   "id": "pharmaceutical-insight",
   "metadata": {},
   "outputs": [],
   "source": [
    "import re\n",
    "import js2xml\n",
    "\n",
    "def find_chart_data_node(bspage, graph):\n",
    "    script = bspage.find_all('script', {'type': 'text/javascript'}, text=re.compile(graph))[0].contents[0]\n",
    "    parsed = js2xml.parse(script)\n",
    "    bsjs = bs(js2xml.pretty_print(parsed), 'xml')\n",
    "    bschart = bsjs.find('string',  text=re.compile(graph)).parent\n",
    "    xchart = bschart.find('property', {'name': 'data'}).find('array')\n",
    "    \n",
    "    return xchart"
   ]
  },
  {
   "cell_type": "code",
   "execution_count": null,
   "id": "experimental-departure",
   "metadata": {},
   "outputs": [],
   "source": [
    "def extract_datapoints_to_list2(xchart):\n",
    "    return [[int(j['value']) for j in i.find_all('number')] for i in xchart.find_all('array')]\n",
    "    "
   ]
  },
  {
   "cell_type": "code",
   "execution_count": null,
   "id": "relative-target",
   "metadata": {},
   "outputs": [],
   "source": [
    "import pandas as pd\n",
    "\n",
    "def convert_dplist_to_df(dplist):\n",
    "    df = pd.DataFrame(dplist, columns = ['tstp', 'value'])\n",
    "    df['dtime']=pd.to_datetime(df['tstp'], unit='ms')\n",
    "    df['url']=url\n",
    "    df['graph']=graph\n",
    "    df = df[['url','graph','dtime', 'value']]\n",
    "    return df"
   ]
  },
  {
   "cell_type": "code",
   "execution_count": null,
   "id": "scenic-heather",
   "metadata": {},
   "outputs": [],
   "source": [
    "def ParseOne(url, graph):\n",
    "    \n",
    "    bspage = open_social_blade_url(url)\n",
    "    xchart = find_chart_data_node(bspage, graph)\n",
    "    dplist = extract_datapoints_to_list2(xchart)\n",
    "    df = convert_dplist_to_df(dplist)    \n",
    "    \n",
    "    return(df)"
   ]
  },
  {
   "cell_type": "code",
   "execution_count": null,
   "id": "sixth-impossible",
   "metadata": {},
   "outputs": [],
   "source": [
    "dfout = ParseOne(url, graph)\n",
    "dfout"
   ]
  },
  {
   "cell_type": "code",
   "execution_count": null,
   "id": "artistic-coordinator",
   "metadata": {},
   "outputs": [],
   "source": [
    "dfout.to_excel('./{}-parsed.xlsx'.format(graph.split('-')[3]))"
   ]
  }
 ],
 "metadata": {
  "kernelspec": {
   "display_name": "Python 3",
   "language": "python",
   "name": "python3"
  },
  "language_info": {
   "codemirror_mode": {
    "name": "ipython",
    "version": 3
   },
   "file_extension": ".py",
   "mimetype": "text/x-python",
   "name": "python",
   "nbconvert_exporter": "python",
   "pygments_lexer": "ipython3",
   "version": "3.8.6"
  }
 },
 "nbformat": 4,
 "nbformat_minor": 5
}
